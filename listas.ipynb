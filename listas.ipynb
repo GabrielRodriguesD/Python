{
 "cells": [
  {
   "cell_type": "markdown",
   "metadata": {},
   "source": [
    "# Coleçoes\n",
    "\n",
    "## Listas"
   ]
  },
  {
   "cell_type": "code",
   "execution_count": 3,
   "metadata": {},
   "outputs": [
    {
     "name": "stdout",
     "output_type": "stream",
     "text": [
      "['banana', 'laranja', 'uva', 'pera', 'melancia']\n"
     ]
    }
   ],
   "source": [
    "# Lista de Inteiros\n",
    "frutas = [\"banana\", \"laranja\", \"uva\", \"pera\", \"melancia\"]\n",
    "print(frutas)\n"
   ]
  },
  {
   "cell_type": "code",
   "execution_count": 4,
   "metadata": {},
   "outputs": [
    {
     "name": "stdout",
     "output_type": "stream",
     "text": [
      "[1, 2, 3, 4, 5]\n"
     ]
    }
   ],
   "source": [
    "#lista de inteiros\n",
    "numeros = [1,2,3,4,5]\n",
    "print(numeros)"
   ]
  },
  {
   "cell_type": "code",
   "execution_count": 5,
   "metadata": {},
   "outputs": [
    {
     "name": "stdout",
     "output_type": "stream",
     "text": [
      "[[1, 2, 3], [4, 5, 6], [7, 8, 9]]\n"
     ]
    }
   ],
   "source": [
    "# Lista de Listas\n",
    "listas = [[1,2,3], [4,5,6], [7,8,9]]\n",
    "print(listas)"
   ]
  },
  {
   "cell_type": "code",
   "execution_count": 6,
   "metadata": {},
   "outputs": [
    {
     "name": "stdout",
     "output_type": "stream",
     "text": [
      "[1, 'banana', 2.5, True]\n"
     ]
    }
   ],
   "source": [
    "# Lista mista\n",
    "misturada = [1, \"banana\", 2.5, True]\n",
    "print(misturada)"
   ]
  },
  {
   "cell_type": "code",
   "execution_count": 7,
   "metadata": {},
   "outputs": [
    {
     "name": "stdout",
     "output_type": "stream",
     "text": [
      "5\n"
     ]
    }
   ],
   "source": [
    "# Tamanho da lista\n",
    "print(len(frutas))"
   ]
  },
  {
   "cell_type": "code",
   "execution_count": 8,
   "metadata": {},
   "outputs": [
    {
     "name": "stdout",
     "output_type": "stream",
     "text": [
      "uva\n"
     ]
    }
   ],
   "source": [
    "# acessando elementos da lista de tra spara frente\n",
    "print(frutas[-3]) #melancia\n"
   ]
  },
  {
   "cell_type": "code",
   "execution_count": null,
   "metadata": {},
   "outputs": [],
   "source": [
    "# Acessando intervalos\n",
    "print(frutas)\n",
    "print(frutas[1:3]) # [\"laranja\", \"uva\"] - do indice 1 ao 3 sem incluir o 3"
   ]
  },
  {
   "cell_type": "code",
   "execution_count": 9,
   "metadata": {},
   "outputs": [
    {
     "name": "stdout",
     "output_type": "stream",
     "text": [
      "['banana', 'laranja', 'uva']\n",
      "['uva', 'pera', 'melancia']\n"
     ]
    }
   ],
   "source": [
    "print(frutas[:3]) \n",
    "print(frutas[2:])"
   ]
  },
  {
   "cell_type": "code",
   "execution_count": 10,
   "metadata": {},
   "outputs": [
    {
     "name": "stdout",
     "output_type": "stream",
     "text": [
      "['banana', 'laranja', 'uva', 'pera', 'melancia', 'abacaxi', 'jabuticaba']\n"
     ]
    }
   ],
   "source": [
    "# adicionando elementos\n",
    "frutas.append(\"abacaxi\")\n",
    "frutas.append(\"jabuticaba\")\n",
    "print(frutas)"
   ]
  },
  {
   "cell_type": "code",
   "execution_count": 11,
   "metadata": {},
   "outputs": [
    {
     "name": "stdout",
     "output_type": "stream",
     "text": [
      "['banana', 'laranja', 'morango', 'uva', 'pera', 'melancia', 'abacaxi', 'jabuticaba']\n"
     ]
    }
   ],
   "source": [
    "# Adicionando elementos em posiçoes especificas\n",
    "frutas.insert(2, \"morango\")\n",
    "print(frutas)"
   ]
  },
  {
   "cell_type": "code",
   "execution_count": 12,
   "metadata": {},
   "outputs": [
    {
     "name": "stdout",
     "output_type": "stream",
     "text": [
      "['banana', 'laranja', 'morango', 'jaca', 'pera', 'melancia', 'abacaxi', 'jabuticaba']\n"
     ]
    }
   ],
   "source": [
    "# Substituindo elementos\n",
    "frutas[3] = \"jaca\"\n",
    "print(frutas)"
   ]
  },
  {
   "cell_type": "code",
   "execution_count": 14,
   "metadata": {},
   "outputs": [
    {
     "name": "stdout",
     "output_type": "stream",
     "text": [
      "['banana', 'laranja', 'morango', 'jaca', 'pera', 'abacaxi', 'jabuticaba']\n"
     ]
    }
   ],
   "source": [
    "# Removendo elementos\n",
    "try:\n",
    "    frutas.remove(\"melancia\") # remove a primeira ocorrencia do elemento\n",
    "    print(\"Melancia removida\")\n",
    "except ValueError:\n",
    "    print(\"Elemento não encontrado\")\n",
    "\n",
    "print(frutas)"
   ]
  },
  {
   "cell_type": "code",
   "execution_count": 15,
   "metadata": {},
   "outputs": [
    {
     "name": "stdout",
     "output_type": "stream",
     "text": [
      "['banana', 'laranja', 'morango', 'jaca', 'pera', 'abacaxi', 'jabuticaba', 'roma', 'caju', 'graviola']\n"
     ]
    }
   ],
   "source": [
    "# Extendendo listas com base em outras listas\n",
    "frutas2 = [\"roma\", \"caju\", \"graviola\"]\n",
    "frutas.extend(frutas2) # adiciona os elementos de frutas2 em frutas\n",
    "print(frutas)"
   ]
  },
  {
   "cell_type": "code",
   "execution_count": 17,
   "metadata": {},
   "outputs": [
    {
     "name": "stdout",
     "output_type": "stream",
     "text": [
      "['banana', 'laranja', 'morango', 'jaca', 'pera', 'abacaxi', 'jabuticaba', 'roma', 'caju', 'graviola', 'manga', 'goiaba', 'caqui', 'manga', 'goiaba', 'caqui']\n"
     ]
    }
   ],
   "source": [
    "# Extendendo listas com base em outros tipos iteráveis (iterável = varios elementos)\n",
    "tupla = (\"manga\", \"goiaba\", \"caqui\") #tupla\n",
    "frutas.extend(tupla)\n",
    "print(frutas)"
   ]
  },
  {
   "cell_type": "code",
   "execution_count": 18,
   "metadata": {},
   "outputs": [
    {
     "name": "stdout",
     "output_type": "stream",
     "text": [
      "['banana', 'laranja', 'morango', 'jaca', 'pera', 'abacaxi', 'jabuticaba', 'roma', 'caju', 'graviola', 'manga', 'goiaba', 'caqui', 'manga', 'goiaba']\n"
     ]
    }
   ],
   "source": [
    "# removendo elementos do lista\n",
    "frutas.pop()\n",
    "print(frutas)"
   ]
  },
  {
   "cell_type": "code",
   "execution_count": 19,
   "metadata": {},
   "outputs": [
    {
     "name": "stdout",
     "output_type": "stream",
     "text": [
      "['banana', 'laranja', 'morango', 'jaca', 'abacaxi', 'jabuticaba', 'roma', 'caju', 'graviola', 'manga', 'goiaba', 'caqui', 'manga', 'goiaba']\n"
     ]
    }
   ],
   "source": [
    "# Removendo elementos em posiçoes especificas\n",
    "frutas.pop(4) # remove no índice 4 (pera)\n",
    "print(frutas)"
   ]
  },
  {
   "cell_type": "code",
   "execution_count": 20,
   "metadata": {},
   "outputs": [
    {
     "name": "stdout",
     "output_type": "stream",
     "text": [
      "['banana', 'laranja', 'morango', 'jaca', 'jabuticaba', 'roma', 'caju', 'graviola', 'manga', 'goiaba', 'caqui', 'manga', 'goiaba']\n"
     ]
    }
   ],
   "source": [
    "# Removendo elementos com a dunção del\n",
    "del frutas[4]\n",
    "print(frutas) # apaga qualquer coisa   \n"
   ]
  },
  {
   "cell_type": "code",
   "execution_count": 21,
   "metadata": {},
   "outputs": [
    {
     "name": "stdout",
     "output_type": "stream",
     "text": [
      "[]\n"
     ]
    }
   ],
   "source": [
    "# Removendo todos elementos\n",
    "frutas.clear()\n",
    "print(frutas)"
   ]
  },
  {
   "cell_type": "code",
   "execution_count": 24,
   "metadata": {},
   "outputs": [],
   "source": [
    "# Nova lista\n",
    "legumes = [\"cenoura\", \"beterraba\", \"abobora\", \"batata\"]"
   ]
  },
  {
   "cell_type": "code",
   "execution_count": 25,
   "metadata": {},
   "outputs": [
    {
     "name": "stdout",
     "output_type": "stream",
     "text": [
      "cenoura\n",
      "beterraba\n",
      "abobora\n",
      "batata\n"
     ]
    }
   ],
   "source": [
    "# Iterando sobre listas\n",
    "for legume in legumes:\n",
    "    print(legume)"
   ]
  },
  {
   "cell_type": "code",
   "execution_count": 27,
   "metadata": {},
   "outputs": [
    {
     "name": "stdout",
     "output_type": "stream",
     "text": [
      "cenoura\n",
      "beterraba\n",
      "abobora\n",
      "batata\n"
     ]
    },
    {
     "data": {
      "text/plain": [
       "[None, None, None, None]"
      ]
     },
     "execution_count": 27,
     "metadata": {},
     "output_type": "execute_result"
    }
   ],
   "source": [
    "# SHorthand for\n",
    "[print(legume) for legume in legumes]"
   ]
  },
  {
   "cell_type": "code",
   "execution_count": 29,
   "metadata": {},
   "outputs": [
    {
     "name": "stdout",
     "output_type": "stream",
     "text": [
      "Números pares: [2, 4, 6, 8]\n",
      "Números pares: [1, 3, 5, 7, 9]\n"
     ]
    }
   ],
   "source": [
    "# List comprehension\n",
    "\n",
    "numeros = [1, 2, 3, 4, 5, 6, 7, 8, 9]\n",
    "pares = [item for item in numeros if item % 2 == 0]\n",
    "impares = [item for item in numeros if item % 2 != 0]\n",
    "\n",
    "# no JavaSvript\n",
    "# const pares = numeros.filter(numero => numero % 2 == 0)\n",
    "\n",
    "# for (let item of numeros){\n",
    "# if (numero % 2 === 0) \n",
    "#    pares.push(numero)\n",
    "#}\n",
    "print(f\"Números pares: {pares}\")\n",
    "print(f\"Números pares: {impares}\")"
   ]
  },
  {
   "cell_type": "code",
   "execution_count": 30,
   "metadata": {},
   "outputs": [
    {
     "name": "stdout",
     "output_type": "stream",
     "text": [
      "['cenoura', 'beterraba', 'abobora', 'batata']\n"
     ]
    }
   ],
   "source": [
    "print(legumes)"
   ]
  },
  {
   "cell_type": "code",
   "execution_count": 31,
   "metadata": {},
   "outputs": [
    {
     "name": "stdout",
     "output_type": "stream",
     "text": [
      "['abobora', 'batata', 'beterraba', 'cenoura']\n"
     ]
    }
   ],
   "source": [
    "#Ordenando em ordem crescente (Altfabética)\n",
    "legumes.sort()\n",
    "print(legumes)"
   ]
  },
  {
   "cell_type": "code",
   "execution_count": 33,
   "metadata": {},
   "outputs": [
    {
     "name": "stdout",
     "output_type": "stream",
     "text": [
      "['cenoura', 'beterraba', 'batata', 'abobora']\n"
     ]
    }
   ],
   "source": [
    "#Ordenando em ordem decrescente (Altfabética)\n",
    "\n",
    "legumes.sort(reverse=True)\n",
    "print(legumes)"
   ]
  },
  {
   "cell_type": "code",
   "execution_count": 32,
   "metadata": {},
   "outputs": [
    {
     "name": "stdout",
     "output_type": "stream",
     "text": [
      "['abobora', 'batata', 'beterraba', 'cenoura']\n"
     ]
    }
   ],
   "source": [
    "sopa = legumes.copy()\n",
    "print(sopa)"
   ]
  },
  {
   "cell_type": "code",
   "execution_count": 34,
   "metadata": {},
   "outputs": [
    {
     "name": "stdout",
     "output_type": "stream",
     "text": [
      "['abobora', 'batata', 'beterraba', 'cenoura']\n",
      "['cenoura', 'beterraba', 'batata', 'abobora']\n"
     ]
    }
   ],
   "source": [
    "#ordenando com a função global sorted()\n",
    "print(sorted(legumes))\n",
    "print(legumes)"
   ]
  },
  {
   "cell_type": "code",
   "execution_count": 35,
   "metadata": {},
   "outputs": [],
   "source": [
    "# Listas permitem elementos duplicados\n",
    "legumes.extend([\"cenoura\", \"beterraba\", \"abóbora\", \"batata\", \"batata\", \"batata\"])"
   ]
  },
  {
   "cell_type": "code",
   "execution_count": 37,
   "metadata": {},
   "outputs": [
    {
     "name": "stdout",
     "output_type": "stream",
     "text": [
      "['cenoura', 'beterraba', 'batata', 'abobora', 'cenoura', 'beterraba', 'abóbora', 'batata', 'batata', 'batata']\n",
      "4\n",
      "2\n"
     ]
    }
   ],
   "source": [
    "# Contando a quantidade de ocorrencias de um elementos (quantidade de copias)\n",
    "print(legumes)\n",
    "print(legumes.count(\"batata\"))\n",
    "print(legumes.count(\"beterraba\"))\n"
   ]
  }
 ],
 "metadata": {
  "kernelspec": {
   "display_name": "Python 3",
   "language": "python",
   "name": "python3"
  },
  "language_info": {
   "codemirror_mode": {
    "name": "ipython",
    "version": 3
   },
   "file_extension": ".py",
   "mimetype": "text/x-python",
   "name": "python",
   "nbconvert_exporter": "python",
   "pygments_lexer": "ipython3",
   "version": "3.12.0"
  }
 },
 "nbformat": 4,
 "nbformat_minor": 2
}
